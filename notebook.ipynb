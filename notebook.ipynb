{
 "cells": [
  {
   "cell_type": "code",
   "execution_count": 1,
   "metadata": {},
   "outputs": [],
   "source": [
    "from tensorflow.keras.layers import SimpleRNN, LSTM, GRU, Bidirectional, Dense, Embedding\n",
    "from tensorflow.keras.datasets import imdb\n",
    "from tensorflow.keras.models import Sequential\n",
    "import numpy as np"
   ]
  },
  {
   "cell_type": "code",
   "execution_count": 2,
   "metadata": {},
   "outputs": [
    {
     "name": "stdout",
     "output_type": "stream",
     "text": [
      "Downloading data from https://storage.googleapis.com/tensorflow/tf-keras-datasets/imdb.npz\n",
      "17464789/17464789 [==============================] - 8s 0us/step\n",
      "[1, 14, 22, 16, 43, 530, 973, 1622, 1385, 65, 458, 4468, 66, 3941, 4, 173, 36, 256, 5, 25, 100, 43, 838, 112, 50, 670, 2, 9, 35, 480, 284, 5, 150, 4, 172, 112, 167, 2, 336, 385, 39, 4, 172, 4536, 1111, 17, 546, 38, 13, 447, 4, 192, 50, 16, 6, 147, 2025, 19, 14, 22, 4, 1920, 4613, 469, 4, 22, 71, 87, 12, 16, 43, 530, 38, 76, 15, 13, 1247, 4, 22, 17, 515, 17, 12, 16, 626, 18, 2, 5, 62, 386, 12, 8, 316, 8, 106, 5, 4, 2223, 2, 16, 480, 66, 3785, 33, 4, 130, 12, 16, 38, 619, 5, 25, 124, 51, 36, 135, 48, 25, 1415, 33, 6, 22, 12, 215, 28, 77, 52, 5, 14, 407, 16, 82, 2, 8, 4, 107, 117, 2, 15, 256, 4, 2, 7, 3766, 5, 723, 36, 71, 43, 530, 476, 26, 400, 317, 46, 7, 4, 2, 1029, 13, 104, 88, 4, 381, 15, 297, 98, 32, 2071, 56, 26, 141, 6, 194, 2, 18, 4, 226, 22, 21, 134, 476, 26, 480, 5, 144, 30, 2, 18, 51, 36, 28, 224, 92, 25, 104, 4, 226, 65, 16, 38, 1334, 88, 12, 16, 283, 5, 16, 4472, 113, 103, 32, 15, 16, 2, 19, 178, 32]\n"
     ]
    }
   ],
   "source": [
    "# Getting reviews with words that come under 5000\n",
    "# most occurring words in the entire\n",
    "# corpus of textual review data\n",
    "vocab_size = 5000\n",
    "(x_train, y_train), (x_test, y_test) = imdb.load_data(num_words=vocab_size)\n",
    "\n",
    "print(x_train[0])"
   ]
  },
  {
   "cell_type": "code",
   "execution_count": 3,
   "metadata": {},
   "outputs": [
    {
     "name": "stdout",
     "output_type": "stream",
     "text": [
      "Downloading data from https://storage.googleapis.com/tensorflow/tf-keras-datasets/imdb_word_index.json\n",
      "1641221/1641221 [==============================] - 0s 0us/step\n",
      "['the', 'as', 'you', 'with', 'out', 'themselves', 'powerful', 'lets', 'loves', 'their', 'becomes', 'reaching', 'had', 'journalist', 'of', 'lot', 'from', 'anyone', 'to', 'have', 'after', 'out', 'atmosphere', 'never', 'more', 'room', 'and', 'it', 'so', 'heart', 'shows', 'to', 'years', 'of', 'every', 'never', 'going', 'and', 'help', 'moments', 'or', 'of', 'every', 'chest', 'visual', 'movie', 'except', 'her', 'was', 'several', 'of', 'enough', 'more', 'with', 'is', 'now', 'current', 'film', 'as', 'you', 'of', 'mine', 'potentially', 'unfortunately', 'of', 'you', 'than', 'him', 'that', 'with', 'out', 'themselves', 'her', 'get', 'for', 'was', 'camp', 'of', 'you', 'movie', 'sometimes', 'movie', 'that', 'with', 'scary', 'but', 'and', 'to', 'story', 'wonderful', 'that', 'in', 'seeing', 'in', 'character', 'to', 'of', '70s', 'and', 'with', 'heart', 'had', 'shadows', 'they', 'of', 'here', 'that', 'with', 'her', 'serious', 'to', 'have', 'does', 'when', 'from', 'why', 'what', 'have', 'critics', 'they', 'is', 'you', 'that', \"isn't\", 'one', 'will', 'very', 'to', 'as', 'itself', 'with', 'other', 'and', 'in', 'of', 'seen', 'over', 'and', 'for', 'anyone', 'of', 'and', 'br', \"show's\", 'to', 'whether', 'from', 'than', 'out', 'themselves', 'history', 'he', 'name', 'half', 'some', 'br', 'of', 'and', 'odd', 'was', 'two', 'most', 'of', 'mean', 'for', '1', 'any', 'an', 'boat', 'she', 'he', 'should', 'is', 'thought', 'and', 'but', 'of', 'script', 'you', 'not', 'while', 'history', 'he', 'heart', 'to', 'real', 'at', 'and', 'but', 'when', 'from', 'one', 'bit', 'then', 'have', 'two', 'of', 'script', 'their', 'with', 'her', 'nobody', 'most', 'that', 'with', \"wasn't\", 'to', 'with', 'armed', 'acting', 'watch', 'an', 'for', 'with', 'and', 'film', 'want', 'an']\n"
     ]
    }
   ],
   "source": [
    "# Getting all the words from word_index dictionary\n",
    "word_idx = imdb.get_word_index()\n",
    "\n",
    "# Originally the index number of a value and not a key,\n",
    "# hence converting the index as key and the words as values\n",
    "word_idx = {i: word for word, i in word_idx.items()}\n",
    "\n",
    "# again printing the review\n",
    "print([word_idx[i] for i in x_train[0]])"
   ]
  },
  {
   "cell_type": "code",
   "execution_count": 4,
   "metadata": {},
   "outputs": [
    {
     "name": "stdout",
     "output_type": "stream",
     "text": [
      "Max length of a review::  2697\n",
      "Min length of a review::  70\n"
     ]
    }
   ],
   "source": [
    "# Get the minimum and the maximum length of reviews\n",
    "print(\"Max length of a review:: \", len(max((x_train+x_test), key=len)))\n",
    "print(\"Min length of a review:: \", len(min((x_train+x_test), key=len)))"
   ]
  },
  {
   "cell_type": "code",
   "execution_count": 5,
   "metadata": {},
   "outputs": [],
   "source": [
    "from tensorflow.keras.preprocessing import sequence\n",
    "\n",
    "# Keeping a fixed length of all reviews to max 400 words\n",
    "max_words = 400\n",
    "\n",
    "x_train = sequence.pad_sequences(x_train, maxlen=max_words)\n",
    "x_test = sequence.pad_sequences(x_test, maxlen=max_words)\n",
    "\n",
    "x_valid, y_valid = x_train[:64], y_train[:64]\n",
    "x_train_, y_train_ = x_train[64:], y_train[64:]"
   ]
  },
  {
   "cell_type": "code",
   "execution_count": 6,
   "metadata": {},
   "outputs": [
    {
     "name": "stdout",
     "output_type": "stream",
     "text": [
      "Model: \"Simple_RNN\"\n",
      "_________________________________________________________________\n",
      " Layer (type)                Output Shape              Param #   \n",
      "=================================================================\n",
      " embedding (Embedding)       (None, 400, 32)           160000    \n",
      "                                                                 \n",
      " simple_rnn (SimpleRNN)      (None, 128)               20608     \n",
      "                                                                 \n",
      " dense (Dense)               (None, 1)                 129       \n",
      "                                                                 \n",
      "=================================================================\n",
      "Total params: 180737 (706.00 KB)\n",
      "Trainable params: 180737 (706.00 KB)\n",
      "Non-trainable params: 0 (0.00 Byte)\n",
      "_________________________________________________________________\n",
      "None\n",
      "Epoch 1/5\n",
      "390/390 [==============================] - 52s 130ms/step - loss: 0.6895 - accuracy: 0.5341 - val_loss: 0.6630 - val_accuracy: 0.5938\n",
      "Epoch 2/5\n",
      "390/390 [==============================] - 52s 133ms/step - loss: 0.6221 - accuracy: 0.6422 - val_loss: 0.5978 - val_accuracy: 0.6562\n",
      "Epoch 3/5\n",
      "390/390 [==============================] - 52s 134ms/step - loss: 0.5615 - accuracy: 0.7029 - val_loss: 0.6629 - val_accuracy: 0.5938\n",
      "Epoch 4/5\n",
      "390/390 [==============================] - 52s 134ms/step - loss: 0.5600 - accuracy: 0.7117 - val_loss: 0.7761 - val_accuracy: 0.6094\n",
      "Epoch 5/5\n",
      "390/390 [==============================] - 53s 135ms/step - loss: 0.4828 - accuracy: 0.7720 - val_loss: 0.6103 - val_accuracy: 0.7188\n",
      "\n",
      "Simple_RNN Score--->  [0.5605410933494568, 0.7253599762916565]\n"
     ]
    }
   ],
   "source": [
    "# fixing every word's embedding size to be 32\n",
    "embd_len = 32\n",
    "\n",
    "# Creating a RNN model\n",
    "RNN_model = Sequential(name=\"Simple_RNN\")\n",
    "RNN_model.add(Embedding(vocab_size,\n",
    "                        embd_len,\n",
    "                        input_length=max_words))\n",
    "\n",
    "# In case of a stacked(more than one layer of RNN)\n",
    "# use return_sequences=True\n",
    "RNN_model.add(SimpleRNN(128,\n",
    "                        activation='tanh',\n",
    "                        return_sequences=False))\n",
    "RNN_model.add(Dense(1, activation='sigmoid'))\n",
    "\n",
    "# printing model summary\n",
    "print(RNN_model.summary())\n",
    "\n",
    "# Compiling model\n",
    "RNN_model.compile(\n",
    "    loss=\"binary_crossentropy\",\n",
    "    optimizer='adam',\n",
    "    metrics=['accuracy']\n",
    ")\n",
    "\n",
    "# Training the model\n",
    "history = RNN_model.fit(x_train_, y_train_,\n",
    "                        batch_size=64,\n",
    "                        epochs=5,\n",
    "                        verbose=1,\n",
    "                        validation_data=(x_valid, y_valid))\n",
    "\n",
    "# Printing model score on test data\n",
    "print()\n",
    "print(\"Simple_RNN Score---> \", RNN_model.evaluate(x_test, y_test, verbose=0))"
   ]
  },
  {
   "cell_type": "code",
   "execution_count": null,
   "metadata": {},
   "outputs": [
    {
     "name": "stdout",
     "output_type": "stream",
     "text": [
      "Model: \"GRU_Model\"\n",
      "_________________________________________________________________\n",
      " Layer (type)                Output Shape              Param #   \n",
      "=================================================================\n",
      " embedding_1 (Embedding)     (None, 400, 32)           160000    \n",
      "                                                                 \n",
      " gru (GRU)                   (None, 128)               62208     \n",
      "                                                                 \n",
      " dense_1 (Dense)             (None, 1)                 129       \n",
      "                                                                 \n",
      "=================================================================\n",
      "Total params: 222337 (868.50 KB)\n",
      "Trainable params: 222337 (868.50 KB)\n",
      "Non-trainable params: 0 (0.00 Byte)\n",
      "_________________________________________________________________\n",
      "None\n",
      "Epoch 1/5\n",
      "382/390 [============================>.] - ETA: 4s - loss: 0.4677 - accuracy: 0.7574"
     ]
    }
   ],
   "source": [
    "# Defining GRU model\n",
    "gru_model = Sequential(name=\"GRU_Model\")\n",
    "gru_model.add(Embedding(vocab_size,\n",
    "                        embd_len,\n",
    "                        input_length=max_words))\n",
    "gru_model.add(GRU(128,\n",
    "                  activation='tanh',\n",
    "                  return_sequences=False))\n",
    "gru_model.add(Dense(1, activation='sigmoid'))\n",
    "\n",
    "# Printing the Summary\n",
    "print(gru_model.summary())\n",
    "\n",
    "# Compiling the model\n",
    "gru_model.compile(\n",
    "    loss=\"binary_crossentropy\",\n",
    "    optimizer='adam',\n",
    "    metrics=['accuracy']\n",
    ")\n",
    "\n",
    "# Training the GRU model\n",
    "history2 = gru_model.fit(x_train_, y_train_,\n",
    "                         batch_size=64,\n",
    "                         epochs=5,\n",
    "                         verbose=1,\n",
    "                         validation_data=(x_valid, y_valid))\n",
    "\n",
    "# Printing model score on test data\n",
    "print()\n",
    "print(\"GRU model Score---> \", gru_model.evaluate(x_test, y_test, verbose=0))"
   ]
  }
 ],
 "metadata": {
  "kernelspec": {
   "display_name": "Python 3",
   "language": "python",
   "name": "python3"
  },
  "language_info": {
   "codemirror_mode": {
    "name": "ipython",
    "version": 3
   },
   "file_extension": ".py",
   "mimetype": "text/x-python",
   "name": "python",
   "nbconvert_exporter": "python",
   "pygments_lexer": "ipython3",
   "version": "3.8.20"
  }
 },
 "nbformat": 4,
 "nbformat_minor": 2
}
